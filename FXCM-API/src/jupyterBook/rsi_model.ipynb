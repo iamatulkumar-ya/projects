{
 "cells": [
  {
   "cell_type": "code",
   "execution_count": null,
   "metadata": {},
   "outputs": [
    {
     "ename": "",
     "evalue": "",
     "output_type": "error",
     "traceback": [
      "\u001b[1;31mRunning cells with 'c:\\Users\\Optimus\\AppData\\Local\\Programs\\Python\\Python37\\python.exe' requires the ipykernel package.\n",
      "\u001b[1;31mRun the following command to install 'ipykernel' into the Python environment. \n",
      "\u001b[1;31mCommand: 'c:/Users/Optimus/AppData/Local/Programs/Python/Python37/python.exe -m pip install ipykernel -U --user --force-reinstall'"
     ]
    }
   ],
   "source": [
    "from forexconnect import ForexConnect\n",
    "import datetime \n",
    "import pandas as pd\n",
    "import matplotlib.pyplot as plt\n",
    "pd.options.mode.chained_assignment = None"
   ]
  },
  {
   "cell_type": "code",
   "execution_count": null,
   "metadata": {},
   "outputs": [
    {
     "ename": "",
     "evalue": "",
     "output_type": "error",
     "traceback": [
      "\u001b[1;31mRunning cells with '.venv' requires the ipykernel package.\n",
      "\u001b[1;31mRun the following command to install 'ipykernel' into the Python environment. \n",
      "\u001b[1;31mCommand: 'd:/ProjectDesk/ProjectFreelance/Operzo/ForexHistoricalData/.venv/Scripts/python.exe -m pip install ipykernel -U --force-reinstall'"
     ]
    }
   ],
   "source": [
    "USER_ID=''\n",
    "PASSWORD=''\n",
    "TRADING_API_URL='www.fxcorporate.com/Hosts.jsp'\n",
    " \n",
    "instrument = \"EUR/USD\";\n",
    "timeFrameId = \"H1\";\n",
    "maxBars = 100;"
   ]
  },
  {
   "cell_type": "code",
   "execution_count": null,
   "metadata": {},
   "outputs": [
    {
     "ename": "",
     "evalue": "",
     "output_type": "error",
     "traceback": [
      "\u001b[1;31mRunning cells with '.venv' requires the ipykernel package.\n",
      "\u001b[1;31mRun the following command to install 'ipykernel' into the Python environment. \n",
      "\u001b[1;31mCommand: 'd:/ProjectDesk/ProjectFreelance/Operzo/ForexHistoricalData/.venv/Scripts/python.exe -m pip install ipykernel -U --force-reinstall'"
     ]
    }
   ],
   "source": [
    "\n",
    "with ForexConnect() as fx:\n",
    "\n",
    "    fx.login(USER_ID,PASSWORD,TRADING_API_URL,connection=\"Demo\")\n",
    "\n",
    "    accounts_response_reader = fx.get_table_reader(fx.ACCOUNTS)\n",
    "    for account in accounts_response_reader:\n",
    "        print(\"{0:s}\".format(account.account_id))\n",
    "\n",
    "    print(\"Connection Successfull\")\n",
    "    \n",
    "    print(\"Fetching price history\")\n",
    "    price_hist = fx.get_history(instrument,timeFrameId, datetime.datetime(2021,12,13),datetime.datetime(2022,12,13))\n",
    "    print(type(price_hist))\n",
    "    print(price_hist)\n",
    "    df = pd.DataFrame(price_hist)\n"
   ]
  },
  {
   "cell_type": "code",
   "execution_count": null,
   "metadata": {},
   "outputs": [
    {
     "ename": "",
     "evalue": "",
     "output_type": "error",
     "traceback": [
      "\u001b[1;31mRunning cells with '.venv' requires the ipykernel package.\n",
      "\u001b[1;31mRun the following command to install 'ipykernel' into the Python environment. \n",
      "\u001b[1;31mCommand: 'd:/ProjectDesk/ProjectFreelance/Operzo/ForexHistoricalData/.venv/Scripts/python.exe -m pip install ipykernel -U --force-reinstall'"
     ]
    }
   ],
   "source": [
    "df"
   ]
  },
  {
   "cell_type": "code",
   "execution_count": null,
   "metadata": {},
   "outputs": [
    {
     "ename": "",
     "evalue": "",
     "output_type": "error",
     "traceback": [
      "\u001b[1;31mRunning cells with '.venv' requires the ipykernel package.\n",
      "\u001b[1;31mRun the following command to install 'ipykernel' into the Python environment. \n",
      "\u001b[1;31mCommand: 'd:/ProjectDesk/ProjectFreelance/Operzo/ForexHistoricalData/.venv/Scripts/python.exe -m pip install ipykernel -U --force-reinstall'"
     ]
    }
   ],
   "source": [
    "df['MA200'] = df['BidClose'].rolling(window=200).mean()\n",
    "\n",
    "# Relative Returns to define up and down moves\n",
    "df['price_change'] =  df['BidClose'].pct_change()\n",
    "\n",
    "# Let's define the up moves, like taking value if positive\n",
    "df['upmove'] = df['price_change'].apply(lambda x: x if x > 0 else 0)\n",
    "\n",
    "# Let's do ti for down move\n",
    "df['downmove'] = df['price_change'].apply(lambda x: abs(x) if x < 0 else 0)\n",
    "\n",
    "# Now, let's take average of up and down moves\n",
    "df['avg_up'] = df['upmove'].ewm(span=19).mean()\n",
    "df['avg_down'] = df['downmove'].ewm(span=19).mean()\n",
    "\n",
    "df = df.dropna()\n",
    "\n",
    "# Now calculating RS\n",
    "df['RS'] = df['avg_up']/df['avg_down'] \n",
    "\n",
    "# Now calculating RSI\n",
    "df['RSI'] = df['RS'].apply(lambda x: 100-(100/x+1))\n",
    "\n",
    "# Now let's efine when we have to buy and sell\n",
    "\n",
    "df.loc[(df['BidClose'] > df['MA200']) & (df['RSI'] < 30),'Buy'] = 'Yes' \n",
    "df.loc[(df['BidClose'] < df['MA200']) | (df['RSI'] > 30),'Buy'] = 'No' \n",
    "\n"
   ]
  },
  {
   "cell_type": "code",
   "execution_count": null,
   "metadata": {},
   "outputs": [
    {
     "ename": "",
     "evalue": "",
     "output_type": "error",
     "traceback": [
      "\u001b[1;31mRunning cells with '.venv' requires the ipykernel package.\n",
      "\u001b[1;31mRun the following command to install 'ipykernel' into the Python environment. \n",
      "\u001b[1;31mCommand: 'd:/ProjectDesk/ProjectFreelance/Operzo/ForexHistoricalData/.venv/Scripts/python.exe -m pip install ipykernel -U --force-reinstall'"
     ]
    }
   ],
   "source": [
    "def getBuySellDates(df):\n",
    "    buyingDates = []\n",
    "    sellingDates = []\n",
    "\n",
    "    for i in range (len(df)):\n",
    "        if \"Yes\" in df['Buy'].iloc[i]:\n",
    "            buyingDates.append(df.iloc[i+1].name)\n",
    "\n",
    "            for j in range(1,11):\n",
    "                if df['RSI'].iloc[i+j] > 40:\n",
    "                    sellingDates.append(df.iloc[i+j+1].name)\n",
    "                    break\n",
    "                elif j ==10:\n",
    "                    sellingDates.append(df.iloc[i+j+1].name)\n",
    "\n",
    "    return buyingDates, sellingDates"
   ]
  },
  {
   "cell_type": "code",
   "execution_count": null,
   "metadata": {},
   "outputs": [
    {
     "ename": "",
     "evalue": "",
     "output_type": "error",
     "traceback": [
      "\u001b[1;31mRunning cells with '.venv' requires the ipykernel package.\n",
      "\u001b[1;31mRun the following command to install 'ipykernel' into the Python environment. \n",
      "\u001b[1;31mCommand: 'd:/ProjectDesk/ProjectFreelance/Operzo/ForexHistoricalData/.venv/Scripts/python.exe -m pip install ipykernel -U --force-reinstall'"
     ]
    }
   ],
   "source": [
    "buy, sell = getBuySellDates(df)\n",
    "\n",
    "\n",
    "plt.figure(figsize=(12,5))\n",
    "plt.scatter(df.loc(buy).index, df.loc[buy]['BidClose'], marker=\"^\", c='g')\n",
    "plt.plot(df['BidClose'], alpha=0.7)\n",
    "plt.show()"
   ]
  }
 ],
 "metadata": {
  "kernelspec": {
   "display_name": ".venv",
   "language": "python",
   "name": "python3"
  },
  "language_info": {
   "name": "python",
   "version": "3.7.0"
  },
  "orig_nbformat": 4
 },
 "nbformat": 4,
 "nbformat_minor": 2
}
